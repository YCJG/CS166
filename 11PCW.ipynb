{
 "cells": [
  {
   "cell_type": "code",
   "execution_count": 1,
   "metadata": {},
   "outputs": [],
   "source": [
    "import numpy as np\n",
    "import matplotlib.pyplot as plt\n",
    "#import time"
   ]
  },
  {
   "cell_type": "code",
   "execution_count": 2,
   "metadata": {},
   "outputs": [],
   "source": [
    "def bus_arr(n, lambd, second = False):\n",
    "    lambd = lambd # as given in study guide, avg rate at which events happen\n",
    "    a = 0\n",
    "    b = 10 # passenger arrives before minute 10\n",
    "    beta = 1/lambd # avg time between events\n",
    "\n",
    "    # passenger arrives at uniformly random time\n",
    "    pass_arr = np.random.uniform(a,b)\n",
    "    bus_count = 0\n",
    "    \n",
    "    # check if we're doing first or second scenario\n",
    "    if second == False:\n",
    "        cur_time = 0\n",
    "        for i in range(n):\n",
    "            # city bus arrival\n",
    "            bus_arr = np.random.exponential(beta)\n",
    "            cur_time += bus_arr\n",
    "            #print('Bus arrival:', cur_time)\n",
    "            #print('Passenger arrival:', pass_arr)\n",
    "            bus_count += 1\n",
    "        \n",
    "            if pass_arr <= cur_time: \n",
    "                wait_time = cur_time-pass_arr\n",
    "                break\n",
    "    else:\n",
    "        cur_time = 0\n",
    "        for i in range(n):\n",
    "            # city bus arrival\n",
    "            bus_arr = np.random.uniform(0,2*lambd)\n",
    "            cur_time += bus_arr\n",
    "            bus_count += 1\n",
    "        \n",
    "            if pass_arr <= cur_time: \n",
    "                wait_time = cur_time-pass_arr\n",
    "                break\n",
    "    return wait_time"
   ]
  },
  {
   "cell_type": "code",
   "execution_count": 3,
   "metadata": {},
   "outputs": [
    {
     "name": "stdout",
     "output_type": "stream",
     "text": [
      "The average waiting time for 1/lambda exponential is: 1.1997586523345984\n",
      "The average waiting time for 2*lambda uniform is: 0.5175900624491205\n"
     ]
    }
   ],
   "source": [
    "wait_lst = []\n",
    "wait_lst2 = []\n",
    "for i in range(20):\n",
    "    # for lambda is exponential\n",
    "    wait_lst.append(bus_arr(100, 1))\n",
    "    # for 2*lambda where bus arrival is U(0, 2lambda)\n",
    "    wait_lst2.append(bus_arr(100, 1, True))\n",
    "    \n",
    "avg_wait = np.mean(wait_lst)\n",
    "avg_wait2 = np.mean(wait_lst2)\n",
    "print('The average waiting time for 1/lambda exponential is:', avg_wait)\n",
    "print('The average waiting time for 2*lambda uniform is:', avg_wait2)"
   ]
  },
  {
   "cell_type": "markdown",
   "metadata": {},
   "source": [
    "# Q2"
   ]
  },
  {
   "cell_type": "code",
   "execution_count": 4,
   "metadata": {},
   "outputs": [],
   "source": [
    "data = {\n",
    "50: 0.00832, 51: 0.00911, 52: 0.00996, 53: 0.01089, 54: 0.01190,\n",
    "55: 0.01300, 56: 0.01421, 57: 0.01554, 58: 0.01700, 59: 0.01859,\n",
    "60: 0.02034, 61: 0.02224, 62: 0.02431, 63: 0.02657, 64: 0.02904,\n",
    "65: 0.03175, 66: 0.03474, 67: 0.03804, 68: 0.04168, 69: 0.04561,\n",
    "70: 0.04979, 71: 0.05415, 72: 0.05865, 73: 0.06326, 74: 0.06812,\n",
    "75: 0.07337, 76: 0.07918, 77: 0.08570, 78: 0.09306, 79: 0.10119,\n",
    "80: 0.10998, 81: 0.11935, 82: 0.12917, 83: 0.13938, 84: 0.15001,\n",
    "85: 0.16114, 86: 0.17282, 87: 0.18513, 88: 0.19825, 89: 0.21246,\n",
    "90: 0.22814, 91: 0.24577, 92: 0.26593, 93: 0.28930, 94: 0.31666,\n",
    "95: 0.35124, 96: 0.40056, 97: 0.48842, 98: 0.66815, 99: 0.72000,\n",
    "100: 0.76000, 101: 0.80000, 102: 0.85000, 103: 0.90000,\n",
    "104: 0.96000, 105: 1.00000}"
   ]
  },
  {
   "cell_type": "code",
   "execution_count": 5,
   "metadata": {},
   "outputs": [
    {
     "name": "stdout",
     "output_type": "stream",
     "text": [
      "At 61 she has 508613.31\n",
      "At 73 she has 1583451.96\n",
      "At 68 she has 1598070.42\n",
      "At 89 she has 1269516.33\n",
      "At 87 she has 601814.64\n",
      "At 57 she has 439836.83\n",
      "At 65 she has 568388.71\n",
      "At 66 she has 1032734.32\n",
      "At 80 she has 2381846.34\n",
      "At 80 she has 3688606.84\n",
      "At 75 she has 935489.82\n",
      "At 76 she has 2617197.23\n",
      "At 74 she has 791844.14\n",
      "At 78 she has 4875006.81\n",
      "At 97 she has 24449432.71\n",
      "At 73 she has 1140278.41\n",
      "At 80 she has 1024168.58\n",
      "At 75 she has 869638.93\n",
      "At 54 she has 230409.17\n",
      "At 59 she has 308049.33\n",
      "At 52 she has 221638.03\n",
      "At 52 she has 173638.66\n",
      "At 84 she has 3182791.42\n",
      "At 88 she has 261206.14\n",
      "At 82 she has 1500538.05\n",
      "At 71 she has 1081270.39\n",
      "At 76 she has 551844.33\n",
      "At 78 she has 1196085.23\n",
      "At 73 she has 951836.91\n",
      "At 85 she has 338905.44\n",
      "At 70 she has 1791906.91\n",
      "At 84 she has 6379950.3\n",
      "At 90 she has 2490963.68\n",
      "At 61 she has 530369.58\n",
      "At 89 she has 4978297.33\n",
      "At 84 she has 3905268.93\n",
      "At 59 she has 360891.48\n",
      "At 73 she has 1801262.57\n",
      "At 84 she has 1088380.52\n",
      "At 86 she has 614395.34\n",
      "At 86 she has 4099924.33\n",
      "At 71 she has 1274354.94\n",
      "At 74 she has 905488.25\n",
      "At 64 she has 537445.36\n",
      "At 75 she has 1483782.22\n",
      "At 70 she has 786956.1\n",
      "At 69 she has 1565136.87\n",
      "At 76 she has 810522.97\n",
      "At 55 she has 238815.25\n",
      "At 69 she has 799215.91\n",
      "At 69 she has 2232727.95\n",
      "At 68 she has 990663.09\n",
      "At 80 she has 938987.02\n",
      "At 73 she has 1723248.48\n",
      "At 64 she has 597152.26\n",
      "At 77 she has 795585.35\n",
      "At 64 she has 768219.49\n",
      "At 63 she has 533953.8\n",
      "At 78 she has 1311077.33\n",
      "At 67 she has 580033.19\n",
      "At 70 she has 1293357.16\n",
      "At 75 she has 850195.75\n",
      "At 73 she has 972307.6\n",
      "At 82 she has 1617085.82\n",
      "At 80 she has 840656.55\n",
      "At 69 she has 1004561.81\n",
      "At 84 she has 1292471.1\n",
      "At 82 she has 2677676.12\n",
      "At 86 she has 7517503.63\n",
      "At 75 she has 1167177.65\n",
      "At 51 she has 173673.95\n",
      "At 64 she has 661887.71\n",
      "At 92 she has 2634602.74\n",
      "At 65 she has 525811.12\n",
      "At 55 she has 231995.75\n",
      "At 77 she has 1776049.98\n",
      "At 74 she has 920560.05\n",
      "At 77 she has 1439623.71\n",
      "At 60 she has 436270.96\n",
      "At 62 she has 497245.51\n",
      "At 75 she has 1005536.21\n",
      "At 84 she has 572119.85\n",
      "At 90 she has 2131104.88\n",
      "At 70 she has 614285.41\n",
      "At 74 she has 1750336.32\n",
      "At 78 she has 1705002.57\n",
      "At 68 she has 1644043.05\n",
      "At 57 she has 316586.37\n",
      "At 81 she has 1235810.08\n",
      "At 81 she has 1370208.96\n",
      "At 82 she has 1235573.52\n",
      "At 68 she has 971659.34\n",
      "At 94 she has -376960.01\n",
      "At 62 she has 750924.8\n",
      "At 60 she has 418409.91\n",
      "At 70 she has 1327069.0\n",
      "At 56 she has 299488.71\n",
      "At 81 she has 3078452.21\n",
      "At 69 she has 641598.5\n",
      "At 74 she has 1064410.91\n"
     ]
    }
   ],
   "source": [
    "end_balance = []\n",
    "death_age = []\n",
    "for i in range(100): #try this 1000 times\n",
    "    cur_money = 150000 #initial investment\n",
    "    age = 50\n",
    "\n",
    "    while age < 150:\n",
    "        # check if the random draw probability is less than \n",
    "        #the probability of dying at that age\n",
    "        if np.random.uniform() < data[age]:\n",
    "            end_balance.append(cur_money)\n",
    "            death_age.append(age)\n",
    "            print('At', age, 'she has', np.round(cur_money,2))\n",
    "            break\n",
    "       \n",
    "        growth = np.random.normal(0.08, 0.09)\n",
    "        cur_money += cur_money*growth \n",
    "    \n",
    "        if age <= 70:\n",
    "            cur_money+=10000 #she contributes 10k\n",
    "        else:\n",
    "            cur_money -= 65000 # she withdraws 65k\n",
    "        age += 1 #she's older by a year"
   ]
  },
  {
   "cell_type": "code",
   "execution_count": 6,
   "metadata": {},
   "outputs": [
    {
     "data": {
      "text/plain": [
       "Text(0.5, 0, 'End Balance')"
      ]
     },
     "execution_count": 6,
     "metadata": {},
     "output_type": "execute_result"
    },
    {
     "data": {
      "image/png": "[encoded data removed]",
      "text/plain": [
       "<Figure size 432x288 with 1 Axes>"
      ]
     },
     "metadata": {
      "needs_background": "light"
     },
     "output_type": "display_data"
    }
   ],
   "source": [
    "plt.hist(end_balance)\n",
    "plt.ylabel('Frequency')\n",
    "plt.xlabel('End Balance')"
   ]
  },
  {
   "cell_type": "code",
   "execution_count": 7,
   "metadata": {},
   "outputs": [
    {
     "data": {
      "text/plain": [
       "Text(0.5, 0, 'Age Fanny Mae Dies At')"
      ]
     },
     "execution_count": 7,
     "metadata": {},
     "output_type": "execute_result"
    },
    {
     "data": {
      "image/png": "[encoded data removed]",
      "text/plain": [
       "<Figure size 432x288 with 1 Axes>"
      ]
     },
     "metadata": {
      "needs_background": "light"
     },
     "output_type": "display_data"
    }
   ],
   "source": [
    "plt.hist(death_age)\n",
    "plt.ylabel('Frequency')\n",
    "plt.xlabel('Age Fanny Mae Dies At')"
   ]
  },
  {
   "cell_type": "code",
   "execution_count": null,
   "metadata": {},
   "outputs": [],
   "source": []
  }
 ],
 "metadata": {
  "kernelspec": {
   "display_name": "Python 3",
   "language": "python",
   "name": "python3"
  },
  "language_info": {
   "codemirror_mode": {
    "name": "ipython",
    "version": 3
   },
   "file_extension": ".py",
   "mimetype": "text/x-python",
   "name": "python",
   "nbconvert_exporter": "python",
   "pygments_lexer": "ipython3",
   "version": "3.7.6"
  }
 },
 "nbformat": 4,
 "nbformat_minor": 4
}
