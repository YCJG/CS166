{
 "cells": [
  {
   "cell_type": "code",
   "execution_count": null,
   "metadata": {},
   "outputs": [],
   "source": [
    "import matplotlib\n",
    "from pylab import *\n",
    "import random as rd\n",
    "%matplotlib inline\n",
    "\n",
    "\n",
    "n = 10 # size of space: n x n\n",
    "p = 0.5 # probability of initially positive\n",
    "\n",
    "def initialize(T):\n",
    "    global config, nextconfig, list_density, temp\n",
    "    config = ones([n, n])\n",
    "    for x in range(n):\n",
    "        for y in range(n):\n",
    "            config[x, y] = 1 if random() < p else -1 \n",
    "    nextconfig = ones([n, n])\n",
    "    temp = T\n",
    "    list_density = []\n",
    "    \n",
    "def observe():\n",
    "    global config, nextconfig, list_density, temp\n",
    "    cla()\n",
    "    list_density.append(sum(config))\n",
    "    imshow(config, vmin = -1, vmax = 1, cmap = cm.binary)\n",
    "\n",
    "def update():\n",
    "    global config, nextconfig, list_density, temp, magnetization\n",
    "    x,y = rd.randint(0,n-1), rd.randint(0,n-1)\n",
    "    sum_e = 0\n",
    "    for dx in [-1, 1]:\n",
    "        for dy in [-1, 1]: #Von Neumann neighborhood\n",
    "            sum_e += (config[(x + dx)%n, (y + dy)%n]*config[x,y])\n",
    "    sum_e *= -1\n",
    "    prob_flip = min(1, np.exp(2*sum_e/temp)) #Application of rule 4\n",
    "    if random() < prob_flip:\n",
    "        nextconfig[x,y] = config[x,y]*-1\n",
    "    else:\n",
    "        nextconfig[x,y] = config[x,y]\n",
    "    config, nextconfig = nextconfig, config\n",
    "    \n",
    "    #calculating magnetization\n",
    "    magnetization = 0\n",
    "    for x in range(n):\n",
    "        for x in range(n):\n",
    "            magnetization += config[x,y]\n",
    "    magnetization = magnetization/(n**2)\n",
    "\n",
    "initialize(0.1)\n",
    "for i in range(100000):\n",
    "    update()\n",
    "    observe()"
   ]
  },
  {
   "cell_type": "code",
   "execution_count": null,
   "metadata": {},
   "outputs": [],
   "source": [
    "list_magnetization = [[] for i in range(5)]\n",
    "for T in range(1,6):\n",
    "    for j in range(100):\n",
    "        initialize(T)\n",
    "        for i in range(100000):\n",
    "            update()\n",
    "        list_magnetization[T-1].append(magnetization)"
   ]
  },
  {
   "cell_type": "code",
   "execution_count": null,
   "metadata": {},
   "outputs": [],
   "source": [
    "for i in range(5):\n",
    "    plt.figure()\n",
    "    plt.hist(list_magnetization[i])"
   ]
  },
  {
   "cell_type": "code",
   "execution_count": null,
   "metadata": {},
   "outputs": [],
   "source": []
  }
 ],
 "metadata": {
  "kernelspec": {
   "display_name": "Python 3",
   "language": "python",
   "name": "python3"
  },
  "language_info": {
   "codemirror_mode": {
    "name": "ipython",
    "version": 3
   },
   "file_extension": ".py",
   "mimetype": "text/x-python",
   "name": "python",
   "nbconvert_exporter": "python",
   "pygments_lexer": "ipython3",
   "version": "3.7.6"
  }
 },
 "nbformat": 4,
 "nbformat_minor": 4
}
