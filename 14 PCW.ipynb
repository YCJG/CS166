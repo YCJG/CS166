{
 "cells": [
  {
   "cell_type": "code",
   "execution_count": 2,
   "metadata": {},
   "outputs": [],
   "source": [
    "import scipy\n",
    "from matplotlib import pyplot as plt\n",
    "\n",
    "class IsingSimulation:\n",
    "\n",
    "    J = 6.34369e-21  # Interaction constant for iron [Joule]\n",
    "    kB = 1.38065e-23  # Boltzmann constant [Joule / Kelvin]\n",
    "\n",
    "    def __init__(self, size, temperature=300):\n",
    "        '''\n",
    "        Create a new Ising model simulation. The state is initialized\n",
    "        randomly.\n",
    "\n",
    "        Arguments:\n",
    "\n",
    "            size (int) The number of cells along each dimension of the\n",
    "              square grid.\n",
    "\n",
    "            temperature (float) The temperature in Kelvin at which to\n",
    "              run the simulation. The Curie temperature for iron is\n",
    "              1043 K. Room temperature is about 300 K. Default: 300.\n",
    "        '''\n",
    "        self.size = size\n",
    "        self.temperature = temperature\n",
    "        self.state = scipy.random.choice(\n",
    "            [-1, +1], size=(self.size, self.size))\n",
    "        self.step = 0\n",
    "\n",
    "    def set_temperature(self, temp):\n",
    "        '''\n",
    "        Set the temperature of the model in Kelvin.\n",
    "        '''\n",
    "        self.temperature = float(temp)\n",
    "\n",
    "    def energy(self):\n",
    "        '''\n",
    "        Compute the energy of the current state of the model.\n",
    "        '''\n",
    "        return -self.J * (self.state * (\n",
    "            scipy.roll(self.state, 1, axis=0) +\n",
    "            scipy.roll(self.state, 1, axis=1))).sum()\n",
    "\n",
    "    def average_magnetism(self):\n",
    "        '''\n",
    "        Compute the average per-cell magnetism of the current state\n",
    "        of the model.\n",
    "        '''\n",
    "        return self.state.mean()\n",
    "\n",
    "    def update(self):\n",
    "        '''\n",
    "        Do a single cell update of the model state.\n",
    "        '''\n",
    "        # Pick a random cell to flip\n",
    "        i, j = scipy.random.randint(self.size, size=2)\n",
    "\n",
    "        # Change in energy from current state to next state\n",
    "        delta_E = 2 * self.J * self.state[i,j] * (\n",
    "            self.state[(i + 1) % self.size, j] +\n",
    "            self.state[(i - 1) % self.size, j] +\n",
    "            self.state[i, (j + 1) % self.size] +\n",
    "            self.state[i, (j - 1) % self.size])\n",
    "\n",
    "        # Log probability of changing state\n",
    "        log_p = -delta_E / (self.temperature * self.kB)\n",
    "        if scipy.log(scipy.random.uniform(0, 1)) < log_p:\n",
    "            self.state[i,j] = -self.state[i,j]\n",
    "\n",
    "        self.step += 1\n",
    "\n",
    "    def display(self):\n",
    "        '''\n",
    "        Plot the state of the model.\n",
    "        '''\n",
    "        plt.figure()\n",
    "        plt.imshow(self.state, vmin=-1, vmax=+1)\n",
    "        plt.title('Step: ' + str(self.step) + ', M = ' + str(self.average_magnetism()))"
   ]
  },
  {
   "cell_type": "code",
   "execution_count": 6,
   "metadata": {},
   "outputs": [
    {
     "name": "stderr",
     "output_type": "stream",
     "text": [
      "/Users/claudia/opt/anaconda3/lib/python3.7/site-packages/ipykernel_launcher.py:66: DeprecationWarning: scipy.log is deprecated and will be removed in SciPy 2.0.0, use numpy.lib.scimath.log instead\n"
     ]
    },
    {
     "data": {
      "image/png": "[encoded data removed]",
      "text/plain": [
       "<Figure size 432x288 with 1 Axes>"
      ]
     },
     "metadata": {
      "needs_background": "light"
     },
     "output_type": "display_data"
    }
   ],
   "source": [
    "size = 20\n",
    "sim = IsingSimulation(size, temperature=1043)  # Ising model at the Curie temperature\n",
    "for _ in range(1000):\n",
    "    sim.update()\n",
    "sim.display()"
   ]
  },
  {
   "cell_type": "code",
   "execution_count": 7,
   "metadata": {},
   "outputs": [
    {
     "name": "stderr",
     "output_type": "stream",
     "text": [
      "/Users/claudia/opt/anaconda3/lib/python3.7/site-packages/ipykernel_launcher.py:66: DeprecationWarning: scipy.log is deprecated and will be removed in SciPy 2.0.0, use numpy.lib.scimath.log instead\n"
     ]
    }
   ],
   "source": [
    "size = 20\n",
    "list_mag = []\n",
    "for i in range(100):\n",
    "    sim = IsingSimulation(size, temperature=1) \n",
    "    for _ in range(100000):\n",
    "        sim.update()\n",
    "    list_mag.append(sim.average_magnetism())"
   ]
  },
  {
   "cell_type": "code",
   "execution_count": 8,
   "metadata": {},
   "outputs": [
    {
     "data": {
      "image/png": "[encoded data removed]",
      "text/plain": [
       "<Figure size 432x288 with 1 Axes>"
      ]
     },
     "metadata": {
      "needs_background": "light"
     },
     "output_type": "display_data"
    }
   ],
   "source": [
    "plt.hist(list_mag)\n",
    "plt.show()"
   ]
  },
  {
   "cell_type": "code",
   "execution_count": 9,
   "metadata": {},
   "outputs": [
    {
     "name": "stderr",
     "output_type": "stream",
     "text": [
      "/Users/claudia/opt/anaconda3/lib/python3.7/site-packages/ipykernel_launcher.py:65: RuntimeWarning: divide by zero encountered in double_scalars\n",
      "/Users/claudia/opt/anaconda3/lib/python3.7/site-packages/ipykernel_launcher.py:66: DeprecationWarning: scipy.log is deprecated and will be removed in SciPy 2.0.0, use numpy.lib.scimath.log instead\n",
      "/Users/claudia/opt/anaconda3/lib/python3.7/site-packages/ipykernel_launcher.py:65: RuntimeWarning: invalid value encountered in double_scalars\n"
     ]
    }
   ],
   "source": [
    "size = 20\n",
    "list_mag3 = []\n",
    "for i in range(10):\n",
    "    sim = IsingSimulation(size, temperature=0) \n",
    "    for _ in range(100000):\n",
    "        sim.update()\n",
    "    list_mag3.append(sim.average_magnetism())"
   ]
  },
  {
   "cell_type": "code",
   "execution_count": 10,
   "metadata": {},
   "outputs": [
    {
     "data": {
      "text/plain": [
       "(array([1., 0., 1., 0., 1., 3., 2., 0., 1., 1.]),\n",
       " array([-0.305 , -0.2485, -0.192 , -0.1355, -0.079 , -0.0225,  0.034 ,\n",
       "         0.0905,  0.147 ,  0.2035,  0.26  ]),\n",
       " <BarContainer object of 10 artists>)"
      ]
     },
     "execution_count": 10,
     "metadata": {},
     "output_type": "execute_result"
    },
    {
     "data": {
      "image/png": "[encoded data removed]",
      "text/plain": [
       "<Figure size 432x288 with 1 Axes>"
      ]
     },
     "metadata": {
      "needs_background": "light"
     },
     "output_type": "display_data"
    }
   ],
   "source": [
    "plt.hist(list_mag3)"
   ]
  },
  {
   "cell_type": "code",
   "execution_count": 11,
   "metadata": {},
   "outputs": [
    {
     "name": "stderr",
     "output_type": "stream",
     "text": [
      "/Users/claudia/opt/anaconda3/lib/python3.7/site-packages/ipykernel_launcher.py:66: DeprecationWarning: scipy.log is deprecated and will be removed in SciPy 2.0.0, use numpy.lib.scimath.log instead\n",
      "/Users/claudia/opt/anaconda3/lib/python3.7/site-packages/ipykernel_launcher.py:65: RuntimeWarning: divide by zero encountered in double_scalars\n",
      "/Users/claudia/opt/anaconda3/lib/python3.7/site-packages/ipykernel_launcher.py:65: RuntimeWarning: invalid value encountered in double_scalars\n"
     ]
    }
   ],
   "source": [
    "size = 20\n",
    "list_mag2 = []\n",
    "t=2000\n",
    "sim = IsingSimulation(size, temperature=t) \n",
    "for _ in range(100000):\n",
    "    if _ % 100 == 0:\n",
    "        t -= 100\n",
    "        sim.set_temperature(t)\n",
    "        sim.update()\n",
    "        list_mag2.append(sim.average_magnetism())\n",
    "    else:\n",
    "        sim.update()\n"
   ]
  },
  {
   "cell_type": "code",
   "execution_count": 12,
   "metadata": {},
   "outputs": [
    {
     "data": {
      "image/png": "[encoded data removed]",
      "text/plain": [
       "<Figure size 432x288 with 1 Axes>"
      ]
     },
     "metadata": {
      "needs_background": "light"
     },
     "output_type": "display_data"
    }
   ],
   "source": [
    "plt.hist(list_mag2)\n",
    "plt.show()"
   ]
  },
  {
   "cell_type": "code",
   "execution_count": null,
   "metadata": {},
   "outputs": [],
   "source": []
  }
 ],
 "metadata": {
  "kernelspec": {
   "display_name": "Python 3",
   "language": "python",
   "name": "python3"
  },
  "language_info": {
   "codemirror_mode": {
    "name": "ipython",
    "version": 3
   },
   "file_extension": ".py",
   "mimetype": "text/x-python",
   "name": "python",
   "nbconvert_exporter": "python",
   "pygments_lexer": "ipython3",
   "version": "3.7.6"
  }
 },
 "nbformat": 4,
 "nbformat_minor": 4
}
