{
 "cells": [
  {
   "cell_type": "code",
   "execution_count": 2,
   "metadata": {},
   "outputs": [],
   "source": [
    "import heapq\n",
    "\n",
    "class Event:\n",
    "    '''\n",
    "    Store the properties of one event in the Schedule class defined below. Each\n",
    "    event has a time at which it needs to run, a function to call when running\n",
    "    the event, along with the arguments and keyword arguments to pass to that\n",
    "    function.\n",
    "    '''\n",
    "    def __init__(self, timestamp, function, *args, **kwargs):\n",
    "        self.timestamp = timestamp\n",
    "        self.function = function\n",
    "        self.args = args\n",
    "        self.kwargs = kwargs\n",
    "\n",
    "    def __lt__(self, other):\n",
    "        '''\n",
    "        This overloads the less-than operator in Python. We need it so the\n",
    "        priority queue knows how to compare two events. We want events with\n",
    "        earlier (smaller) times to go first.\n",
    "        '''\n",
    "        return self.timestamp < other.timestamp\n",
    "\n",
    "    def run(self, schedule):\n",
    "        '''\n",
    "        Run an event by calling the function with its arguments and keyword\n",
    "        arguments. The first argument to any event function is always the\n",
    "        schedule in which events are being tracked. The schedule object can be\n",
    "        used to add new events to the priority queue.\n",
    "        '''\n",
    "        self.function(schedule, *self.args, **self.kwargs)\n",
    "\n",
    "\n",
    "class Schedule:\n",
    "    '''\n",
    "    Implement an event schedule using a priority queue. You can add events and\n",
    "    run the next event.\n",
    "    \n",
    "    The `now` attribute contains the time at which the last event was run.\n",
    "    '''\n",
    "    \n",
    "    def __init__(self):\n",
    "        self.now = 0  # Keep track of the current simulation time\n",
    "        self.priority_queue = []  # The priority queue of events to run\n",
    "    \n",
    "    def add_event_at(self, timestamp, function, *args, **kwargs):\n",
    "        # Add an event to the schedule at a particular point in time.\n",
    "        heapq.heappush(\n",
    "            self.priority_queue,\n",
    "            Event(timestamp, function, *args, **kwargs))\n",
    "    \n",
    "    def add_event_after(self, interval, function, *args, **kwargs):\n",
    "        # Add an event to the schedule after a specified time interval.\n",
    "        self.add_event_at(self.now + interval, function, *args, **kwargs)\n",
    "    \n",
    "    def next_event_time(self):\n",
    "        return self.priority_queue[0].timestamp\n",
    "\n",
    "    def run_next_event(self):\n",
    "        # Get the next event from the priority queue and run it.\n",
    "        event = heapq.heappop(self.priority_queue)\n",
    "        self.now = event.timestamp\n",
    "        event.run(self)\n",
    "        \n",
    "    def __repr__(self):\n",
    "        return (\n",
    "            f'Schedule() at time {self.now} ' +\n",
    "            f'with {len(self.priority_queue)} events in the queue')\n",
    "    \n",
    "    def print_events(self):\n",
    "        print(repr(self))\n",
    "        for event in sorted(self.priority_queue):\n",
    "            print(f'   {event.timestamp}: {event.function.__name__}')\n"
   ]
  },
  {
   "cell_type": "code",
   "execution_count": 3,
   "metadata": {},
   "outputs": [],
   "source": [
    "# M/D/1 queue\n",
    "\n",
    "import scipy.stats as sts\n",
    "\n",
    "\n",
    "class Queue:\n",
    "    def __init__(self, service_rate):\n",
    "        # Store the deterministic service time for an M/D/1 queue\n",
    "        self.service_time = 1 / service_rate\n",
    "        # We start with an empty queue and the server not busy\n",
    "        self.people_in_queue = 0\n",
    "        self.people_being_served = 0\n",
    "\n",
    "    def add_customer(self, schedule):\n",
    "        # Add the customer to the queue\n",
    "        self.people_in_queue += 1\n",
    "        if self.people_being_served < 1:\n",
    "            # This customer can be served immediately\n",
    "            schedule.add_event_after(0, self.start_serving_customer)\n",
    "            \n",
    "    def start_serving_customer(self, schedule):\n",
    "        # Move the customer from the queue to a server\n",
    "        self.people_in_queue -= 1\n",
    "        self.people_being_served += 1\n",
    "        # Schedule when the server will be done with the customer\n",
    "        schedule.add_event_after(\n",
    "            self.service_time,\n",
    "            self.finish_serving_customer)\n",
    "            \n",
    "    def finish_serving_customer(self, schedule):\n",
    "        # Remove the customer from the server\n",
    "        self.people_being_served -= 1\n",
    "        if self.people_in_queue > 0:\n",
    "            # There are more people in the queue so serve the next customer\n",
    "            schedule.add_event_after(0, self.start_serving_customer)\n",
    "\n",
    "\n",
    "class BusSystem:\n",
    "    \n",
    "    def __init__(self, arrival_rate, service_rate):\n",
    "        self.queue = Queue(service_rate)\n",
    "        self.arrival_distribution = sts.expon(scale=1/arrival_rate)\n",
    "\n",
    "    def add_customer(self, schedule):\n",
    "        # Add this customer to the queue\n",
    "        self.queue.add_customer(schedule)\n",
    "        # Schedule when to add another customer\n",
    "        schedule.add_event_after(\n",
    "            self.arrival_distribution.rvs(),\n",
    "            self.add_customer)\n",
    "\n",
    "    def run(self, schedule):\n",
    "        # Schedule when the first customer arrives\n",
    "        schedule.add_event_after(\n",
    "            self.arrival_distribution.rvs(),\n",
    "            self.add_customer)\n",
    "        \n",
    "\n",
    "def run_simulation(arrival_rate, service_rate, run_until):\n",
    "    schedule = Schedule()\n",
    "    bus_system = BusSystem(arrival_rate, service_rate)\n",
    "    bus_system.run(schedule)\n",
    "    while schedule.next_event_time() < run_until:\n",
    "        schedule.run_next_event()\n",
    "    return bus_system"
   ]
  },
  {
   "cell_type": "code",
   "execution_count": 11,
   "metadata": {},
   "outputs": [
    {
     "name": "stdout",
     "output_type": "stream",
     "text": [
      "There are 1 people in the queue\n"
     ]
    }
   ],
   "source": [
    "# Run a short test\n",
    "bus_system = run_simulation(arrival_rate=0.8, service_rate=1, run_until=100)\n",
    "print(f'There are {bus_system.queue.people_in_queue} people in the queue')"
   ]
  },
  {
   "cell_type": "markdown",
   "metadata": {},
   "source": [
    "# First experiment: 100 trials"
   ]
  },
  {
   "cell_type": "markdown",
   "metadata": {},
   "source": [
    "An arrival rate of 0.8 and a service rate of 1: There are 1 people in the queue.\n",
    "\n"
   ]
  },
  {
   "cell_type": "code",
   "execution_count": 14,
   "metadata": {},
   "outputs": [],
   "source": [
    "import matplotlib.pyplot as plt\n",
    "import numpy as np"
   ]
  },
  {
   "cell_type": "code",
   "execution_count": 32,
   "metadata": {},
   "outputs": [],
   "source": [
    "result = []\n",
    "for i in range(1,101):\n",
    "    bus_system = run_simulation(arrival_rate=0.8, service_rate=1, run_until=i)\n",
    "    result.append(bus_system.queue.people_in_queue)\n",
    "results = np.hstack(result)"
   ]
  },
  {
   "cell_type": "code",
   "execution_count": 53,
   "metadata": {},
   "outputs": [
    {
     "data": {
      "image/png": "[encoded data removed]",
      "text/plain": [
       "<Figure size 432x288 with 1 Axes>"
      ]
     },
     "metadata": {
      "needs_background": "light"
     },
     "output_type": "display_data"
    }
   ],
   "source": [
    "x = results\n",
    "plt.figure()\n",
    "plt.hist(x) # Make a histogram\n",
    "plt.xlabel('Average queue length')\n",
    "plt.show()"
   ]
  },
  {
   "cell_type": "code",
   "execution_count": 50,
   "metadata": {},
   "outputs": [
    {
     "name": "stdout",
     "output_type": "stream",
     "text": [
      "The sample mean is 1.54\n",
      "Standard error of the mean: 0.21434419596395501\n",
      "95% confidence interval of population mean: [1.1198853759106482, 1.9601146240893519]\n"
     ]
    }
   ],
   "source": [
    "m = np.mean(x)\n",
    "t = sts.sem(x)\n",
    "\n",
    "print('The sample mean is', m)\n",
    "print('Standard error of the mean:', t)\n",
    "print('95% confidence interval of population mean:', [m - 1.96*t, m + 1.96*t])"
   ]
  },
  {
   "cell_type": "markdown",
   "metadata": {},
   "source": [
    "# Second experiment: 1000 trials"
   ]
  },
  {
   "cell_type": "code",
   "execution_count": 47,
   "metadata": {},
   "outputs": [],
   "source": [
    "result1 = []\n",
    "for i in range(1,1001):\n",
    "    bus_system = run_simulation(arrival_rate=0.8, service_rate=1, run_until=i)\n",
    "    result1.append(bus_system.queue.people_in_queue)\n",
    "results1 = np.hstack(result1)"
   ]
  },
  {
   "cell_type": "code",
   "execution_count": 52,
   "metadata": {},
   "outputs": [
    {
     "data": {
      "image/png": "[encoded data removed]",
      "text/plain": [
       "<Figure size 432x288 with 1 Axes>"
      ]
     },
     "metadata": {
      "needs_background": "light"
     },
     "output_type": "display_data"
    }
   ],
   "source": [
    "y = results1\n",
    "plt.figure()\n",
    "plt.hist(y) # Make a histogram\n",
    "plt.xlabel('Average queue length')\n",
    "plt.show()"
   ]
  },
  {
   "cell_type": "code",
   "execution_count": 51,
   "metadata": {},
   "outputs": [
    {
     "name": "stdout",
     "output_type": "stream",
     "text": [
      "The sample mean is 1.601\n",
      "Standard error of the mean: 0.06857478765188779\n",
      "95% confidence interval of population mean: [1.4665934162023, 1.7354065837977]\n"
     ]
    }
   ],
   "source": [
    "m1 = np.mean(y)\n",
    "t1 = sts.sem(y)\n",
    "\n",
    "print('The sample mean is', m1)\n",
    "print('Standard error of the mean:', t1)\n",
    "print('95% confidence interval of population mean:', [m1 - 1.96*t1, m1 + 1.96*t1])"
   ]
  },
  {
   "cell_type": "markdown",
   "metadata": {},
   "source": [
    "Compare the results from the two experiments. Comment on the following.\n",
    "a. Whether and how the distribution (histogram) over queue length changed.\n",
    "b. Whether and how the average queue length estimate changed.\n",
    "c. Whether and how the confidence interval of the average queue length changed.\n",
    "\n",
    "a. The shapes remain similar.\n",
    "\n",
    "b. The average queue length estimate became higher and the standard error of the mean became lower.\n",
    "\n",
    "c. The confidence interval became narrower in the 1000 trials."
   ]
  },
  {
   "cell_type": "markdown",
   "metadata": {},
   "source": [
    "# Error Plot"
   ]
  },
  {
   "cell_type": "code",
   "execution_count": 54,
   "metadata": {},
   "outputs": [
    {
     "data": {
      "image/png": "[encoded data removed]",
      "text/plain": [
       "<Figure size 432x288 with 1 Axes>"
      ]
     },
     "metadata": {
      "needs_background": "light"
     },
     "output_type": "display_data"
    },
    {
     "name": "stdout",
     "output_type": "stream",
     "text": [
      "The sample mean is 15.642\n",
      "Standard error of the mean: 0.4706796950956939\n",
      "95% confidence interval of population mean: [14.71946779761244, 16.56453220238756]\n"
     ]
    }
   ],
   "source": [
    "# Arrival rate of 1 and service rate of 1 for 1000 trials\n",
    "result2 = []\n",
    "for i in range(1,1001):\n",
    "    bus_system = run_simulation(arrival_rate=1, service_rate=1, run_until=i)\n",
    "    result2.append(bus_system.queue.people_in_queue)\n",
    "results2 = np.hstack(result2)\n",
    "\n",
    "z = results2\n",
    "plt.figure()\n",
    "plt.hist(z) # Make a histogram\n",
    "plt.xlabel('Average queue length')\n",
    "plt.show()\n",
    "\n",
    "m2 = np.mean(z)\n",
    "t2 = sts.sem(z)\n",
    "\n",
    "print('The sample mean is', m2)\n",
    "print('Standard error of the mean:', t2)\n",
    "print('95% confidence interval of population mean:', [m2 - 1.96*t2, m2 + 1.96*t2])"
   ]
  },
  {
   "cell_type": "code",
   "execution_count": 55,
   "metadata": {},
   "outputs": [
    {
     "data": {
      "image/png": "[encoded data removed]",
      "text/plain": [
       "<Figure size 432x288 with 1 Axes>"
      ]
     },
     "metadata": {
      "needs_background": "light"
     },
     "output_type": "display_data"
    },
    {
     "name": "stdout",
     "output_type": "stream",
     "text": [
      "The sample mean is 3.879\n",
      "Standard error of the mean: 0.14678523394710008\n",
      "95% confidence interval of population mean: [3.591300941463684, 4.166699058536317]\n"
     ]
    }
   ],
   "source": [
    "# Arrival rate of 0.9 and service rate of 1 for 1000 trials\n",
    "\n",
    "result3 = []\n",
    "for i in range(1,1001):\n",
    "    bus_system = run_simulation(arrival_rate=0.9, service_rate=1, run_until=i)\n",
    "    result3.append(bus_system.queue.people_in_queue)\n",
    "results3 = np.hstack(result3)\n",
    "\n",
    "u = results3\n",
    "plt.figure()\n",
    "plt.hist(u) # Make a histogram\n",
    "plt.xlabel('Average queue length')\n",
    "plt.show()\n",
    "\n",
    "m3 = np.mean(u)\n",
    "t3 = sts.sem(u)\n",
    "\n",
    "print('The sample mean is', m3)\n",
    "print('Standard error of the mean:', t3)\n",
    "print('95% confidence interval of population mean:', [m3 - 1.96*t3, m3 + 1.96*t3])"
   ]
  },
  {
   "cell_type": "code",
   "execution_count": 67,
   "metadata": {},
   "outputs": [
    {
     "data": {
      "image/png": "[encoded data removed]",
      "text/plain": [
       "<Figure size 432x288 with 1 Axes>"
      ]
     },
     "metadata": {
      "needs_background": "light"
     },
     "output_type": "display_data"
    }
   ],
   "source": [
    "# Make the error plot of average queue length\n",
    "x1 = [0.8, 0.9, 1] # the arrival rate\n",
    "y1 = [1.601, 3.879, 15.642] # the average queue length\n",
    "y1_error=[0.069, 0.147, 0.471] #value of the error\n",
    "\n",
    "plt.figure()\n",
    "plt.errorbar(x1,y1,y1_error, color='black', marker='o', capsize = 5, linestyle='--', linewidth=1) \n",
    "plt.yticks(np.arange(1,17))\n",
    "plt.hlines(y = 5, xmin = 0.9, xmax = 0.95)\n",
    "plt.xlabel('Arrial rate')\n",
    "plt.ylabel('Average queue length')\n",
    "plt.show()"
   ]
  },
  {
   "cell_type": "markdown",
   "metadata": {},
   "source": [
    "Probably after arrival rate becomes 0.91, the average queue length becomes more than 5."
   ]
  },
  {
   "cell_type": "markdown",
   "metadata": {},
   "source": [
    "# Reflection\n",
    "\n",
    "#EmpiricalAnalysis: The results obtained from running a simulation visualize with histograms and error plots, summarized with mean, standard error and confidence interval, and interpreted correctly with comparison between the 100 and 1000 trails. The simulation was running multiple times to derive some insights about how arrival rate relates to average queue length.\n",
    "\n",
    "#professionalism, I have properly labeled the axes, chosen the appropriate types of graph to present my results. I also produced a well-organized Python notebook and following all presentation guidelines, including detailed in-line code comments for readers. Finally, the pre-class work is completed well before class and uploaded onto the right platform to present in class."
   ]
  },
  {
   "cell_type": "code",
   "execution_count": null,
   "metadata": {},
   "outputs": [],
   "source": []
  }
 ],
 "metadata": {
  "kernelspec": {
   "display_name": "Python 3",
   "language": "python",
   "name": "python3"
  },
  "language_info": {
   "codemirror_mode": {
    "name": "ipython",
    "version": 3
   },
   "file_extension": ".py",
   "mimetype": "text/x-python",
   "name": "python",
   "nbconvert_exporter": "python",
   "pygments_lexer": "ipython3",
   "version": "3.8.8"
  }
 },
 "nbformat": 4,
 "nbformat_minor": 4
}
