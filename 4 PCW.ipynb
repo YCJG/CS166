{
 "cells": [
  {
   "cell_type": "code",
   "execution_count": 1,
   "metadata": {},
   "outputs": [],
   "source": [
    "import heapq\n",
    "\n",
    "class Event:\n",
    "    '''\n",
    "    Store the properties of one event in the Schedule class defined below. Each\n",
    "    event has a time at which it needs to run, a function to call when running\n",
    "    the event, along with the arguments and keyword arguments to pass to that\n",
    "    function.\n",
    "    '''\n",
    "    def __init__(self, timestamp, function, *args, **kwargs):\n",
    "        self.timestamp = timestamp\n",
    "        self.function = function\n",
    "        self.args = args\n",
    "        self.kwargs = kwargs\n",
    "\n",
    "    def __lt__(self, other):\n",
    "        '''\n",
    "        This overloads the less-than operator in Python. We need it so the\n",
    "        priority queue knows how to compare two events. We want events with\n",
    "        earlier (smaller) times to go first.\n",
    "        '''\n",
    "        return self.timestamp < other.timestamp\n",
    "\n",
    "    def run(self, schedule):\n",
    "        '''\n",
    "        Run an event by calling the function with its arguments and keyword\n",
    "        arguments. The first argument to any event function is always the\n",
    "        schedule in which events are being tracked. The schedule object can be\n",
    "        used to add new events to the priority queue.\n",
    "        '''\n",
    "        self.function(schedule, *self.args, **self.kwargs)\n",
    "\n",
    "\n",
    "class Schedule:\n",
    "    '''\n",
    "    Implement an event schedule using a priority queue. You can add events and\n",
    "    run the next event.\n",
    "    \n",
    "    The `now` attribute contains the time at which the last event was run.\n",
    "    '''\n",
    "    \n",
    "    def __init__(self):\n",
    "        self.now = 0  # Keep track of the current simulation time\n",
    "        self.priority_queue = []  # The priority queue of events to run\n",
    "    \n",
    "    def add_event_at(self, timestamp, function, *args, **kwargs):\n",
    "        # Add an event to the schedule at a particular point in time.\n",
    "        heapq.heappush(\n",
    "            self.priority_queue,\n",
    "            Event(timestamp, function, *args, **kwargs))\n",
    "    \n",
    "    def add_event_after(self, interval, function, *args, **kwargs):\n",
    "        # Add an event to the schedule after a specified time interval.\n",
    "        self.add_event_at(self.now + interval, function, *args, **kwargs)\n",
    "    \n",
    "    def next_event_time(self):\n",
    "        return self.priority_queue[0].timestamp\n",
    "\n",
    "    def run_next_event(self):\n",
    "        # Get the next event from the priority queue and run it.\n",
    "        event = heapq.heappop(self.priority_queue)\n",
    "        self.now = event.timestamp\n",
    "        event.run(self)\n",
    "        \n",
    "    def __repr__(self):\n",
    "        return (\n",
    "            f'Schedule() at time {self.now} ' +\n",
    "            f'with {len(self.priority_queue)} events in the queue')\n",
    "    \n",
    "    def print_events(self):\n",
    "        print(repr(self))\n",
    "        for event in sorted(self.priority_queue):\n",
    "            print(f'   {event.timestamp}: {event.function.__name__}')"
   ]
  },
  {
   "cell_type": "code",
   "execution_count": 2,
   "metadata": {},
   "outputs": [],
   "source": [
    "class Queue:\n",
    "    def __init__(self, service_distribution):\n",
    "        self.service_distribution = service_distribution\n",
    "        # We start with an empty queue and the server not busy\n",
    "        self.people_in_queue = 0\n",
    "        self.people_being_served = 0\n",
    "\n",
    "    def add_customer(self, schedule):\n",
    "        # Add the customer to the queue\n",
    "        self.people_in_queue += 1\n",
    "        if self.people_being_served < 1:\n",
    "            # This customer can be served immediately\n",
    "            schedule.add_event_after(0, self.start_serving_customer)\n",
    "            \n",
    "    def start_serving_customer(self, schedule):\n",
    "        # Move the customer from the queue to a server\n",
    "        self.people_in_queue -= 1\n",
    "        self.people_being_served += 1\n",
    "        # Schedule when the server will be done with the customer\n",
    "        schedule.add_event_after(\n",
    "            self.service_distribution.rvs(),\n",
    "            self.finish_serving_customer)\n",
    "            \n",
    "    def finish_serving_customer(self, schedule):\n",
    "        # Remove the customer from the server\n",
    "        self.people_being_served -= 1\n",
    "        if self.people_in_queue > 0:\n",
    "            # There are more people in the queue so serve the next customer\n",
    "            schedule.add_event_after(0, self.start_serving_customer)\n",
    "\n",
    "\n",
    "class BusSystem:\n",
    "    \n",
    "    def __init__(self, arrival_distribution, service_distribution):\n",
    "        self.queue = Queue(service_distribution)\n",
    "        self.arrival_distribution = arrival_distribution\n",
    "\n",
    "    def add_customer(self, schedule):\n",
    "        # Add this customer to the queue\n",
    "        self.queue.add_customer(schedule)\n",
    "        # Schedule when to add another customer\n",
    "        schedule.add_event_after(\n",
    "            self.arrival_distribution.rvs(),\n",
    "            self.add_customer)\n",
    "\n",
    "    def run(self, schedule):\n",
    "        # Schedule when the first customer arrives\n",
    "        schedule.add_event_after(\n",
    "            self.arrival_distribution.rvs(),\n",
    "            self.add_customer)\n",
    "        \n",
    "\n",
    "def run_simulation(arrival_distribution, service_distribution, run_until):\n",
    "    schedule = Schedule()\n",
    "    bus_system = BusSystem(arrival_distribution, service_distribution)\n",
    "    bus_system.run(schedule)\n",
    "    while schedule.next_event_time() < run_until:\n",
    "        schedule.run_next_event()\n",
    "    return bus_system"
   ]
  },
  {
   "cell_type": "code",
   "execution_count": 10,
   "metadata": {},
   "outputs": [
    {
     "name": "stdout",
     "output_type": "stream",
     "text": [
      "There are 2 people in the queue\n"
     ]
    }
   ],
   "source": [
    "# Run a short test with an M/M/1 queue\n",
    "\n",
    "import scipy.stats as sts\n",
    "import numpy as np\n",
    "import matplotlib.pyplot as plt\n",
    "from tqdm import tqdm\n",
    "\n",
    "arrival_rate = 0.8\n",
    "service_rate = 1\n",
    "\n",
    "arrival_distribution = sts.expon(scale=1/arrival_rate)\n",
    "service_distribution = sts.expon(scale=1/service_rate)\n",
    "bus_system = run_simulation(arrival_distribution, service_distribution, run_until=100)\n",
    "print(f'There are {bus_system.queue.people_in_queue} people in the queue')"
   ]
  },
  {
   "cell_type": "code",
   "execution_count": 12,
   "metadata": {},
   "outputs": [
    {
     "data": {
      "image/png": "[encoded data removed]",
      "text/plain": [
       "<Figure size 432x288 with 1 Axes>"
      ]
     },
     "metadata": {
      "needs_background": "light"
     },
     "output_type": "display_data"
    }
   ],
   "source": [
    "# First experiment: 100 trials\n",
    "\n",
    "result = []\n",
    "for i in range(1,101):\n",
    "    bus_system = run_simulation(arrival_distribution, service_distribution, run_until=i)\n",
    "    result.append(bus_system.queue.people_in_queue)\n",
    "results = np.hstack(result)\n",
    "\n",
    "x = results\n",
    "plt.figure()\n",
    "plt.hist(x) # Make a histogram\n",
    "plt.xlabel('Average queue length')\n",
    "plt.show()"
   ]
  },
  {
   "cell_type": "code",
   "execution_count": 13,
   "metadata": {},
   "outputs": [
    {
     "name": "stdout",
     "output_type": "stream",
     "text": [
      "The sample mean is 1.82\n",
      "Standard error of the mean: 0.2633812768017062\n",
      "95% confidence interval of population mean: [1.3037726974686559, 2.336227302531344]\n"
     ]
    }
   ],
   "source": [
    "m = np.mean(x)\n",
    "t = sts.sem(x)\n",
    "\n",
    "print('The sample mean is', m)\n",
    "print('Standard error of the mean:', t)\n",
    "print('95% confidence interval of population mean:', [m - 1.96*t, m + 1.96*t])"
   ]
  },
  {
   "cell_type": "code",
   "execution_count": 15,
   "metadata": {},
   "outputs": [
    {
     "data": {
      "image/png": "[encoded data removed]",
      "text/plain": [
       "<Figure size 432x288 with 1 Axes>"
      ]
     },
     "metadata": {
      "needs_background": "light"
     },
     "output_type": "display_data"
    },
    {
     "name": "stdout",
     "output_type": "stream",
     "text": [
      "The sample mean is 3.191\n",
      "Standard error of the mean: 0.14353090301436872\n",
      "95% confidence interval of population mean: [2.9096794300918374, 3.4723205699081623]\n"
     ]
    }
   ],
   "source": [
    "# Second experiment: 1000 trials\n",
    "\n",
    "result1 = []\n",
    "for i in range(1,1001):\n",
    "    bus_system = run_simulation(arrival_distribution, service_distribution, run_until=i)\n",
    "    result1.append(bus_system.queue.people_in_queue)\n",
    "results1 = np.hstack(result1)\n",
    "\n",
    "y = results1\n",
    "plt.figure()\n",
    "plt.hist(y) # Make a histogram\n",
    "plt.xlabel('Average queue length')\n",
    "plt.show()\n",
    "\n",
    "m1 = np.mean(y)\n",
    "t1 = sts.sem(y)\n",
    "\n",
    "print('The sample mean is', m1)\n",
    "print('Standard error of the mean:', t1)\n",
    "print('95% confidence interval of population mean:', [m1 - 1.96*t1, m1 + 1.96*t1])"
   ]
  },
  {
   "cell_type": "code",
   "execution_count": 4,
   "metadata": {},
   "outputs": [],
   "source": [
    "def run_experiment(arrival_rate_list, service_time_dist, run_until, num_trials):\n",
    "    '''\n",
    "    Run an experiment with different arrival rates for an M/G/1 queue. By\n",
    "    setting the service time distribution appropriately, you can also simulate\n",
    "    M/D/1 and M/M/1 queues.\n",
    "    '''\n",
    "    \n",
    "    # We record only the mean and standard error of the mean for each experiment\n",
    "    results_mean = []\n",
    "    results_std_err = []\n",
    "\n",
    "    for arrival_rate in tqdm(arrival_rate_list):\n",
    "        arrival_distribution = sts.expon(scale=1/arrival_rate)\n",
    "        queue_lengths = []\n",
    "        for trial in range(num_trials):\n",
    "            bus_system = run_simulation(\n",
    "                arrival_distribution, service_time_dist, run_until)\n",
    "            queue_lengths.append(bus_system.queue.people_in_queue)\n",
    "        results_mean.append(np.mean(queue_lengths))\n",
    "        results_std_err.append(sts.sem(queue_lengths))\n",
    "        \n",
    "    # Convert lists to arrays so we can easily add, subtract, and multiply them\n",
    "    results_mean = np.array(results_mean)\n",
    "    results_std_err = np.array(results_std_err)\n",
    "    \n",
    "    return results_mean, results_std_err\n",
    "\n",
    "\n",
    "def make_error_plot(queue_type, rho, mean, std_err, theoretical_function):\n",
    "    '''\n",
    "    Plot the empirical mean and 95% confidence interval of the mean of the queue\n",
    "    length. Also plot the theoretical value for the average queue length using the\n",
    "    supplied theoretical function (a function of rho).\n",
    "    '''\n",
    "    \n",
    "    plt.figure(figsize=(8, 6))\n",
    "    plt.title(f'Average queue length for an {queue_type} queue')\n",
    "    plt.xlabel('utilization ρ')\n",
    "    plt.ylabel('average queue length')\n",
    "\n",
    "    plt.errorbar(\n",
    "        rho, mean, 1.96 * std_err,\n",
    "        color='black', marker='o', capsize=5, linestyle='--', linewidth=1,\n",
    "        label='empirical')\n",
    "\n",
    "    plt.plot(\n",
    "        rho, theoretical_function(rho),\n",
    "        color='red', marker='o', linestyle='--', linewidth=1,\n",
    "        label='theoretical')\n",
    "\n",
    "    plt.legend()\n",
    "    plt.show()"
   ]
  },
  {
   "cell_type": "code",
   "execution_count": 5,
   "metadata": {},
   "outputs": [
    {
     "name": "stderr",
     "output_type": "stream",
     "text": [
      "100%|██████████| 6/6 [00:10<00:00,  1.68s/it]"
     ]
    },
    {
     "name": "stdout",
     "output_type": "stream",
     "text": [
      "M/D/1 experiment complete\n"
     ]
    },
    {
     "name": "stderr",
     "output_type": "stream",
     "text": [
      "\n"
     ]
    }
   ],
   "source": [
    "# Run the M/D/1 queue experiment\n",
    "\n",
    "arrival_rate_list = np.array([0.5, 0.6, 0.7, 0.8, 0.9, 0.95])  # lambda\n",
    "service_rate = 1  # mu\n",
    "service_distribution = sts.norm(loc=1/service_rate, scale=0)\n",
    "run_until = 300\n",
    "num_trials = 100\n",
    "\n",
    "md1_mean, md1_std_err = run_experiment(\n",
    "    arrival_rate_list, service_distribution, run_until, num_trials)\n",
    "print('M/D/1 experiment complete')"
   ]
  },
  {
   "cell_type": "code",
   "execution_count": 6,
   "metadata": {},
   "outputs": [
    {
     "data": {
      "image/png": "[encoded data removed]",
      "text/plain": [
       "<Figure size 576x432 with 1 Axes>"
      ]
     },
     "metadata": {
      "needs_background": "light"
     },
     "output_type": "display_data"
    }
   ],
   "source": [
    "# Plot the M/D/1 results\n",
    "\n",
    "def theoretical_md1(rho):\n",
    "    return rho**2 / 2 / (1-rho)\n",
    "\n",
    "rho = arrival_rate_list / service_rate\n",
    "make_error_plot('M/D/1', rho, md1_mean, md1_std_err, theoretical_md1)"
   ]
  },
  {
   "cell_type": "markdown",
   "metadata": {},
   "source": [
    "EmpiricalAnalysis: The results obtained from running a simulation visualize with histograms and error plots, summarized with mean, standard error and confidence interval, and interpreted correctly with comparison between the 100 and 1000 trails. The simulation was running multiple times to derive some insights about how arrival rate relates to average queue length.\n",
    "\n",
    "Professionalism: I have properly labeled the axes, chosen the appropriate types of graph to present my results. I also produced a well-organized Python notebook and following all presentation guidelines, including detailed in-line code comments for readers. Finally, the pre-class work is completed well before class and uploaded onto the right platform to present in class."
   ]
  },
  {
   "cell_type": "code",
   "execution_count": null,
   "metadata": {},
   "outputs": [],
   "source": []
  }
 ],
 "metadata": {
  "kernelspec": {
   "display_name": "Python 3",
   "language": "python",
   "name": "python3"
  },
  "language_info": {
   "codemirror_mode": {
    "name": "ipython",
    "version": 3
   },
   "file_extension": ".py",
   "mimetype": "text/x-python",
   "name": "python",
   "nbconvert_exporter": "python",
   "pygments_lexer": "ipython3",
   "version": "3.7.6"
  }
 },
 "nbformat": 4,
 "nbformat_minor": 4
}
