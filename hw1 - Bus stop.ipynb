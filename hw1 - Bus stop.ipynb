{
 "cells": [
  {
   "cell_type": "code",
   "execution_count": 100,
   "metadata": {},
   "outputs": [],
   "source": [
    "import heapq\n",
    "import scipy.stats as sts\n",
    "import numpy as np\n",
    "import matplotlib.pyplot as plt\n",
    "import random\n",
    "import datetime\n",
    "from tqdm import tqdm\n",
    "\n",
    "class Event: # Copied from PCW\n",
    "    '''\n",
    "    Store the properties of one event in the Schedule class defined below. Each\n",
    "    event has a time at which it needs to run, a function to call when running\n",
    "    the event, along with the arguments and keyword arguments to pass to that\n",
    "    function.\n",
    "    '''\n",
    "    def __init__(self, timestamp, function, *args, **kwargs):\n",
    "        self.timestamp = timestamp\n",
    "        self.function = function\n",
    "        self.args = args\n",
    "        self.kwargs = kwargs\n",
    "\n",
    "    def __lt__(self, other):\n",
    "        '''\n",
    "        This overloads the less-than operator in Python. We need it so the\n",
    "        priority queue knows how to compare two events. We want events with\n",
    "        earlier (smaller) times to go first.\n",
    "        '''\n",
    "        return self.timestamp < other.timestamp\n",
    "\n",
    "    def run(self, schedule):\n",
    "        '''\n",
    "        Run an event by calling the function with its arguments and keyword\n",
    "        arguments. The first argument to any event function is always the\n",
    "        schedule in which events are being tracked. The schedule object can be\n",
    "        used to add new events to the priority queue.\n",
    "        '''\n",
    "        self.function(schedule, *self.args, **self.kwargs)\n",
    "\n",
    "\n",
    "class Schedule: # Copied from PCW   **Change: datetime module usage\n",
    "    '''\n",
    "    Implement an event schedule using a priority queue. You can add events and\n",
    "    run the next event.\n",
    "    \n",
    "    The `now` attribute contains the time at which the last event was run.\n",
    "    '''\n",
    "    \n",
    "    def __init__(self):\n",
    "        self.now = datetime.datetime(2021, 1, 1, 8, 0, 0)  # Keep track of the current simulation time\n",
    "        self.priority_queue = []  # The priority queue of events to run\n",
    "    \n",
    "    def add_event_at(self, timestamp, function, *args, **kwargs):\n",
    "        # Add an event to the schedule at a particular point in time.\n",
    "        heapq.heappush(\n",
    "            self.priority_queue,\n",
    "            Event(timestamp, function, *args, **kwargs))\n",
    "    \n",
    "    def add_event_after(self, interval_sec, function, *args, **kwargs):\n",
    "        # Add an event to the schedule after a specified time interval.\n",
    "        self.add_event_at(self.now + datetime.timedelta(seconds = interval_sec), function, *args, **kwargs)\n",
    "    \n",
    "    def next_event_time(self):\n",
    "        return self.priority_queue[0].timestamp\n",
    "\n",
    "    def run_next_event(self):\n",
    "        # Get the next event from the priority queue and run it.\n",
    "        event = heapq.heappop(self.priority_queue)\n",
    "        self.now = event.timestamp\n",
    "        event.run(self)\n",
    "        \n",
    "    def __repr__(self):\n",
    "        return (\n",
    "            f'Schedule() at time {self.now} ' +\n",
    "            f'with {len(self.priority_queue)} events in the queue')\n",
    "    \n",
    "    def print_events(self):\n",
    "        print(repr(self))\n",
    "        for event in sorted(self.priority_queue):\n",
    "            print(f'   {event.timestamp}: {event.function.__name__}')"
   ]
  },
  {
   "cell_type": "code",
   "execution_count": 101,
   "metadata": {},
   "outputs": [],
   "source": [
    "class Queue: \n",
    "\n",
    "    max_queue_len = float(\"-inf\")\n",
    "    \n",
    "    def __init__(self, service_distribution):\n",
    "        self.service_distribution = service_distribution\n",
    "        # We start with an empty queue and the server not busy\n",
    "        self.people_in_queue = 0\n",
    "        self.people_being_served = 0\n",
    "        self.people_counter = 0\n",
    "        self.waiting_times = []\n",
    "        \n",
    "    def add_customer(self, schedule):\n",
    "        # Add the customer to the queue\n",
    "        self.start_time = schedule.now\n",
    "        self.start_time_man = schedule.now\n",
    "        self.people_in_queue += 1\n",
    "        self.people_counter += 1\n",
    "        if self.people_being_served < 1:\n",
    "            # This customer can be served immediately\n",
    "            schedule.add_event_after(0, self.start_serving_customer)\n",
    "        \n",
    "        if self.people_in_queue > Queue.max_queue_len: # Update the max queue length if needed\n",
    "            Queue.max_queue_len = self.people_in_queue\n",
    "            \n",
    "    def start_serving_customer(self, schedule):\n",
    "        # Move the customer from the queue to a server\n",
    "        self.people_in_queue -= 1\n",
    "        self.people_being_served += 1\n",
    "        \n",
    "        # Schedule when the server will be done with the customer\n",
    "        schedule.add_event_after(\n",
    "            self.service_distribution.rvs()*60,\n",
    "            self.finish_serving_customer)\n",
    "            \n",
    "    def finish_serving_customer(self, schedule):\n",
    "        # Remove the customer from the server\n",
    "        self.people_being_served -= 1\n",
    "        if self.people_in_queue > 0:\n",
    "            # There are more people in the queue so serve the next customer\n",
    "            schedule.add_event_after(0, self.start_serving_customer)\n",
    "        \n",
    "        # ADDING NEEDED FOR OUTPUT METRICS\n",
    "        time_taken_per_cus = schedule.now - self.start_time # add the total waiting time\n",
    "        self.waiting_times.append(time_taken_per_cus)"
   ]
  },
  {
   "cell_type": "code",
   "execution_count": 102,
   "metadata": {},
   "outputs": [],
   "source": [
    "class BusSystem:\n",
    "    \n",
    "    def __init__(self, arrival_distribution, service_distribution, num_queues):\n",
    "        self.queues = [Queue(service_distribution) for x in range(num_queues)]\n",
    "        self.arrival_distribution = arrival_distribution\n",
    "\n",
    "    def add_customer(self, schedule):\n",
    "        '''Add customer to the SHORTEST queue'''\n",
    "        # create list of tuples (queue, people in queue) to find the SHORTEST queue and add \n",
    "        # customer to it\n",
    "        queues_lengths = [(queue, queue.people_in_queue) for queue in self.queues]\n",
    "        # getting an index of the shortest queue\n",
    "        shortest_queue_idx = queues_lengths.index(min(queues_lengths, key = lambda t: t[1]))\n",
    "        # adding a customer to this specific queue\n",
    "        self.queues[shortest_queue_idx].add_customer(schedule)\n",
    "        # adding the next customer\n",
    "        schedule.add_event_after(\n",
    "            self.arrival_distribution.rvs()*60,\n",
    "            self.add_customer)\n",
    "\n",
    "    def run(self, schedule):\n",
    "        # Schedule when the first customer arrives\n",
    "        schedule.add_event_after(\n",
    "            self.arrival_distribution.rvs()*60, \n",
    "            self.add_customer)"
   ]
  },
  {
   "cell_type": "code",
   "execution_count": 103,
   "metadata": {},
   "outputs": [],
   "source": [
    "def run_simulation(arrival_distribution, service_distribution, run_until, num_queues):\n",
    "    schedule = Schedule()\n",
    "    bus_system = BusSystem(arrival_distribution, service_distribution, num_queues)\n",
    "    bus_system.run(schedule)\n",
    "    \n",
    "    while schedule.next_event_time() < run_until:\n",
    "        schedule.run_next_event()\n",
    "        \n",
    "    # creating a storage for all waiting times generated across all queues\n",
    "    all_wait_times = []\n",
    "    for queue in bus_system.queues:\n",
    "        all_wait_times += queue.waiting_times\n",
    "    \n",
    "    queue_max = Queue.max_queue_len\n",
    "    Queue.max_queue_len = float(\"-inf\") # updating for future experiment\n",
    "    \n",
    "    return bus_system, all_wait_times, queue_max"
   ]
  },
  {
   "cell_type": "code",
   "execution_count": 104,
   "metadata": {},
   "outputs": [
    {
     "name": "stdout",
     "output_type": "stream",
     "text": [
      "[OUTPUT CHECK] queue_max : 696\n"
     ]
    }
   ],
   "source": [
    "### A test to ensure that all works\n",
    "arrival_distribution = sts.expon(scale=1)\n",
    "service_distribution = sts.norm(loc=2, scale=0.5)\n",
    "\n",
    "bus_system = run_simulation(arrival_distribution, service_distribution, run_until = datetime.datetime(2021, 1, 2, 8, 0, 0), num_queues=1)\n",
    "\n",
    "print(\"[OUTPUT CHECK] queue_max :\", bus_system[2])"
   ]
  },
  {
   "cell_type": "code",
   "execution_count": 105,
   "metadata": {},
   "outputs": [],
   "source": [
    "def run_experiment(arrival_rate_list, service_time_dist, run_until, num_trials, num_queues_list):\n",
    "    '''\n",
    "    Run an experiment with different arrival rates for an M/G/1 queue. By\n",
    "    setting the service time distribution appropriately, you can also simulate\n",
    "    M/D/1 and M/M/1 queues.\n",
    "    '''\n",
    "    \n",
    "    # Record the mean and standard error of the mean for each experiment\n",
    "    results_customer_per_stop_mean = []\n",
    "    results_customer_per_stop_confint =[]\n",
    "    \n",
    "    results_wait_time_mean = []\n",
    "    results_wait_time_confint = []\n",
    "    \n",
    "    results_max_queue_len_mean = []\n",
    "    results_max_queue_len_confint = []\n",
    "\n",
    "    for num_queues in num_queues_list:      \n",
    "        # For each queue size, store data from trials so that we can take an average of it later on\n",
    "        customer_per_stop_in_trials = []\n",
    "        len_wait_times_in_trials = []\n",
    "        len_max_queues_in_trials =[]\n",
    "    \n",
    "        for trial in range(num_trials):\n",
    "            # run simulation in each trial and add needed metrics into the _in_trials_ lists defined above\n",
    "            bus_queues, wait_times, max_queue  = run_simulation(arrival_distribution, service_distribution, run_until, num_queues)\n",
    "            \n",
    "            for queue in bus_queues.queues: \n",
    "                customer_per_stop_in_trials.append(queue.people_counter)\n",
    "                \n",
    "            total_wait_time_sec = datetime.timedelta(hours = 0, minutes = 0, seconds = 0)\n",
    "            for wait_time in wait_times: \n",
    "                total_wait_time_sec += wait_time\n",
    "                \n",
    "            average_per_customer = total_wait_time_sec/len(wait_times)\n",
    "            len_max_queues_in_trials.append(max_queue)\n",
    "            len_wait_times_in_trials.append(average_per_customer.seconds/60)\n",
    "            \n",
    "        \n",
    "        # Get mean of each of the metrics for each possible num_queues size\n",
    "        # Add them into the lists defined above\n",
    "        # These lists will be returned in this function and used for plotting later on\n",
    "        \n",
    "        average_customer_per_stop = np.mean(customer_per_stop_in_trials)\n",
    "        results_customer_per_stop_mean.append(average_customer_per_stop)\n",
    "        t = sts.sem(customer_per_stop_in_trials)\n",
    "        results_customer_per_stop_confint.append(round((average_customer_per_stop + 1.96*t) - (average_customer_per_stop - 1.96*t), 4))\n",
    "        \n",
    "        average_max_queue_len = np.mean(len_max_queues_in_trials)\n",
    "        results_max_queue_len_mean.append(average_max_queue_len)\n",
    "        t = sts.sem(len_max_queues_in_trials)\n",
    "        results_max_queue_len_confint.append(round((average_max_queue_len + 1.96*t) - (average_max_queue_len - 1.96*t), 4))\n",
    "        \n",
    "        average_wait_time = np.mean(len_wait_times_in_trials)\n",
    "        results_wait_time_mean.append(average_wait_time)        \n",
    "        t = sts.sem(len_wait_times_in_trials)\n",
    "        results_wait_time_confint.append(round((average_wait_time + 1.96*t) - (average_wait_time - 1.96*t), 4))\n",
    "        \n",
    "    return results_customer_per_stop_mean, results_customer_per_stop_confint, results_wait_time_mean, results_wait_time_confint, results_max_queue_len_mean, results_max_queue_len_confint \n"
   ]
  },
  {
   "cell_type": "code",
   "execution_count": 112,
   "metadata": {},
   "outputs": [
    {
     "name": "stdout",
     "output_type": "stream",
     "text": [
      "M/G/1 experiment complete\n"
     ]
    }
   ],
   "source": [
    "# Run the M/G/1 queue experiment\n",
    "arrival_rate = 1 #lambda\n",
    "average_service_time = 2\n",
    "service_time_std = 0.5\n",
    "\n",
    "arrival_distribution = sts.expon(scale=arrival_rate)\n",
    "service_distribution = sts.norm(loc=average_service_time, scale=service_time_std)\n",
    "\n",
    "run_until = datetime.datetime(2021,1,2,8, 0, 0)\n",
    "num_trials = 10\n",
    "\n",
    "num_queues_list = [i for i in range(1, 16)]\n",
    "\n",
    "results_customer_per_stop_mean, results_customer_per_stop_confint, results_wait_time_mean, results_wait_time_confint, results_max_queue_len_mean, results_max_queue_len_confint = run_experiment(\n",
    "    arrival_distribution, service_distribution, run_until, num_trials, num_queues_list)\n",
    "\n",
    "print('M/G/1 experiment complete')"
   ]
  },
  {
   "cell_type": "markdown",
   "metadata": {},
   "source": [
    "The expected value and a 95% confidence interval of the average passenger waiting time given  the number of buses on the route. Waiting time is defined as the duration between a passenger joining a queue at a bus stop and when the passenger gets on the bus."
   ]
  },
  {
   "cell_type": "code",
   "execution_count": 116,
   "metadata": {},
   "outputs": [
    {
     "name": "stderr",
     "output_type": "stream",
     "text": [
      "No handles with labels found to put in legend.\n"
     ]
    },
    {
     "data": {
      "image/png": "[encoded data removed]",
      "text/plain": [
       "<Figure size 432x288 with 1 Axes>"
      ]
     },
     "metadata": {
      "needs_background": "light"
     },
     "output_type": "display_data"
    },
    {
     "name": "stdout",
     "output_type": "stream",
     "text": [
      "Number of queues | average waiting time\n",
      "---------------------------------------\n",
      "1                |    1.0100000000000002\n",
      "2                |    1.7100000000000002\n",
      "3                |    1.7583333333333333\n",
      "4                |    1.7883333333333336\n",
      "5                |    1.7966666666666664\n",
      "6                |    1.78\n",
      "7                |    1.7983333333333333\n",
      "8                |    1.7916666666666665\n",
      "9                |    1.795\n",
      "10                |    1.775\n",
      "11                |    1.7933333333333334\n",
      "12                |    1.7833333333333337\n",
      "13                |    1.7850000000000001\n",
      "14                |    1.8016666666666665\n",
      "15                |    1.7816666666666667\n"
     ]
    }
   ],
   "source": [
    "plt.figure()\n",
    "\n",
    "# Make an error plot\n",
    "plt.errorbar(num_queues_list, results_wait_time_mean, results_wait_time_confint, linestyle = \"--\", marker='s', ms = 4, color = 'blue', mec = 'black')\n",
    "plt.xlabel('Number of queues')\n",
    "plt.ylabel('Waiting time (minutes)')\n",
    "plt.title(\"Average waiting time and its 95% confidence intervals \\n given the number of buses on the route\")\n",
    "plt.legend()\n",
    "plt.show()\n",
    "\n",
    "print(\"Number of queues | average waiting time\")\n",
    "print(\"---------------------------------------\")\n",
    "\n",
    "for i in range(len(num_queues_list)): \n",
    "    print(num_queues_list[i], \"               |   \", results_wait_time_mean[i]) "
   ]
  },
  {
   "cell_type": "markdown",
   "metadata": {},
   "source": [
    "The expected value and a 95% confidence interval of the maximum queue length at all bus stops during a day given the number of buses on the route."
   ]
  },
  {
   "cell_type": "code",
   "execution_count": 117,
   "metadata": {},
   "outputs": [
    {
     "data": {
      "image/png": "[encoded data removed]",
      "text/plain": [
       "<Figure size 432x288 with 1 Axes>"
      ]
     },
     "metadata": {
      "needs_background": "light"
     },
     "output_type": "display_data"
    },
    {
     "name": "stdout",
     "output_type": "stream",
     "text": [
      "Number of queues | average max length\n",
      "---------------------------------------\n",
      "1                |    719.3\n",
      "2                |    25.6\n",
      "3                |    3.3\n",
      "4                |    2.1\n",
      "5                |    1.3\n",
      "6                |    1.0\n",
      "7                |    1.0\n",
      "8                |    1.0\n",
      "9                |    1.0\n",
      "10                |    1.0\n",
      "11                |    1.0\n",
      "12                |    1.0\n",
      "13                |    1.0\n",
      "14                |    1.0\n",
      "15                |    1.0\n"
     ]
    }
   ],
   "source": [
    "plt.figure()\n",
    "plt.errorbar(num_queues_list, results_max_queue_len_mean, results_max_queue_len_confint, linestyle = \"--\", marker='s',  ms = 4, color = 'red')\n",
    "plt.xlabel('Number of queues')\n",
    "plt.ylabel('Average max queue length (customers)')\n",
    "plt.title(\"Average max queue lengths and its 95% confidence intervals \\n given the number of buses on the route\")\n",
    "plt.show()\n",
    "\n",
    "print(\"Number of queues | average max length\")\n",
    "print(\"---------------------------------------\")\n",
    "for i in range(len(num_queues_list)): \n",
    "    print(num_queues_list[i], \"               |   \", results_max_queue_len_mean[i]) "
   ]
  },
  {
   "cell_type": "markdown",
   "metadata": {},
   "source": [
    "The expected value and a 95% confidence interval of Average Queue Lengths."
   ]
  },
  {
   "cell_type": "code",
   "execution_count": 118,
   "metadata": {},
   "outputs": [
    {
     "data": {
      "image/png": "[encoded data removed]",
      "text/plain": [
       "<Figure size 432x288 with 1 Axes>"
      ]
     },
     "metadata": {
      "needs_background": "light"
     },
     "output_type": "display_data"
    },
    {
     "name": "stdout",
     "output_type": "stream",
     "text": [
      "Number of queues | number of customer served per stop\n",
      "-----------------------------------------------------------\n",
      "1                |    1439.6\n",
      "2                |    718.9\n",
      "3                |    475.1666666666667\n",
      "4                |    359.4\n",
      "5                |    286.2\n",
      "6                |    238.41666666666666\n",
      "7                |    207.17142857142858\n",
      "8                |    178.9625\n",
      "9                |    159.1888888888889\n",
      "10                |    147.27\n",
      "11                |    132.05454545454546\n",
      "12                |    122.05833333333334\n",
      "13                |    109.18461538461538\n",
      "14                |    104.17857142857143\n",
      "15                |    95.3\n"
     ]
    }
   ],
   "source": [
    "plt.figure()\n",
    "plt.errorbar(num_queues_list, results_customer_per_stop_mean, results_customer_per_stop_confint, linestyle = \"--\", marker='s', ms = 4, color = 'green')\n",
    "plt.xlabel('Number of queues')\n",
    "plt.ylabel('Number of customers served per stop \\n(customers)')\n",
    "plt.title(\"Average number of customers served and its 95% confidence intervals \\n given the number of buses on the route\")\n",
    "plt.show()\n",
    "\n",
    "print(\"Number of queues | number of customer served per stop\")\n",
    "print(\"-----------------------------------------------------------\")\n",
    "for i in range(len(num_queues_list)): \n",
    "    print(num_queues_list[i], \"               |   \", results_customer_per_stop_mean[i]) "
   ]
  }
 ],
 "metadata": {
  "kernelspec": {
   "display_name": "Python 3",
   "language": "python",
   "name": "python3"
  },
  "language_info": {
   "codemirror_mode": {
    "name": "ipython",
    "version": 3
   },
   "file_extension": ".py",
   "mimetype": "text/x-python",
   "name": "python",
   "nbconvert_exporter": "python",
   "pygments_lexer": "ipython3",
   "version": "3.7.6"
  }
 },
 "nbformat": 4,
 "nbformat_minor": 4
}
